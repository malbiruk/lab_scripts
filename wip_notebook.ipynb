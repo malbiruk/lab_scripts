{
  "cells": [
    {
      "cell_type": "code",
      "source": [
        "import numpy as np\n",
        "import pandas as pd\n",
        "import matplotlib.pyplot as plt\n",
        "import seaborn as sns\n",
        "import MDAnalysis as mda\n",
        "from MDAnalysis.analysis.hydrogenbonds.hbond_analysis import HydrogenBondAnalysis as HBA\n",
        "\n",
        "from modules.traj import System, TrajectorySlice\n",
        "from modules.constants import PATH\n",
        "\n",
        "sns.set(context='notebook', palette='muted', style='ticks', rc={'figure.figsize':(9,6)})\n"
      ],
      "outputs": [],
      "execution_count": null,
      "metadata": {
        "jupyter": {
          "source_hidden": false,
          "outputs_hidden": false
        },
        "nteract": {
          "transient": {
            "deleting": false
          }
        }
      }
    },
    {
      "cell_type": "code",
      "source": [
        "syst = 'dmpc_chol10'\n"
      ],
      "outputs": [],
      "execution_count": null,
      "metadata": {
        "jupyter": {
          "source_hidden": false,
          "outputs_hidden": false
        },
        "nteract": {
          "transient": {
            "deleting": false
          }
        }
      }
    },
    {
      "cell_type": "code",
      "source": [
        "u = mda.Universe(str(PATH / syst / 'md' / 'md.tpr'),\n",
        "                 str(PATH / syst / 'md' / 'last_ns.xtc'))\n",
        "\n",
        "hbonds = HBA(universe=u,\n",
        "             between=['resname CHL', 'resname DMPC'],\n",
        "             donors_sel='name O3')\n",
        "hbonds.run()\n"
      ],
      "outputs": [],
      "execution_count": null,
      "metadata": {
        "jupyter": {
          "source_hidden": false,
          "outputs_hidden": false
        },
        "nteract": {
          "transient": {
            "deleting": false
          }
        }
      }
    },
    {
      "cell_type": "code",
      "source": [
        "hbonds.results.hbonds.shape\n"
      ],
      "outputs": [],
      "execution_count": null,
      "metadata": {
        "jupyter": {
          "source_hidden": false,
          "outputs_hidden": false
        },
        "nteract": {
          "transient": {
            "deleting": false
          }
        }
      }
    },
    {
      "cell_type": "code",
      "source": [
        "def hb_lifetime(tau_max: int = 20, step: int = 10):\n",
        "    '''\n",
        "    calculate lifetimes adjusting tau_max\n",
        "    '''\n",
        "    tau_timeseries, timeseries = hbonds.lifetime(tau_max)\n",
        "    if tau_timeseries[np.argmin(timeseries)] < tau_timeseries.max():\n",
        "        return tau_timeseries, timeseries\n",
        "    else:\n",
        "        tau_max += step\n",
        "        return hb_lifetime(tau_max, step)\n",
        "\n",
        "\n",
        "tau_timeseries, timeseries = hb_lifetime()\n",
        "\n",
        "plt.plot(tau_timeseries, timeseries)\n",
        "plt.xlim(0)\n",
        "plt.ylim(0)\n",
        "plt.ylabel(r'$C(\\tau)$')\n",
        "plt.xlabel(r'$\\tau$, ps')\n"
      ],
      "outputs": [],
      "execution_count": null,
      "metadata": {
        "jupyter": {
          "source_hidden": false,
          "outputs_hidden": false
        },
        "nteract": {
          "transient": {
            "deleting": false
          }
        }
      }
    },
    {
      "cell_type": "code",
      "source": [
        "u.select_atoms('SOL')\n"
      ],
      "outputs": [],
      "execution_count": null,
      "metadata": {
        "jupyter": {
          "source_hidden": false,
          "outputs_hidden": false
        },
        "nteract": {
          "transient": {
            "deleting": false
          }
        }
      }
    },
    {
      "cell_type": "code",
      "source": [
        "\n",
        "np.unique(u.atoms.resnames)\n",
        "\n"
      ],
      "outputs": [],
      "execution_count": null,
      "metadata": {
        "jupyter": {
          "source_hidden": false,
          "outputs_hidden": false
        },
        "nteract": {
          "transient": {
            "deleting": false
          }
        }
      }
    },
    {
      "cell_type": "code",
      "source": [
        "import nglview\n",
        "v = nglview.show_mdanalysis(u)"
      ],
      "outputs": [],
      "execution_count": null,
      "metadata": {
        "jupyter": {
          "source_hidden": false,
          "outputs_hidden": false
        },
        "nteract": {
          "transient": {
            "deleting": false
          }
        }
      }
    }
  ],
  "metadata": {},
  "nbformat": 4,
  "nbformat_minor": 0
}