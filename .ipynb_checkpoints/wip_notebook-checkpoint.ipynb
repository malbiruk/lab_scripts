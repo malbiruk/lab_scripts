{
 "cells": [
  {
   "cell_type": "markdown",
   "metadata": {},
   "source": [
    "## standard imports"
   ]
  },
  {
   "cell_type": "code",
   "execution_count": 2,
   "metadata": {
    "jupyter": {
     "outputs_hidden": false,
     "source_hidden": false
    },
    "nteract": {
     "transient": {
      "deleting": false
     }
    }
   },
   "outputs": [
    {
     "data": {
      "application/javascript": [
       "\n",
       "            setTimeout(function() {\n",
       "                var nbb_cell_id = 2;\n",
       "                var nbb_unformatted_code = \"%load_ext nb_black\";\n",
       "                var nbb_formatted_code = \"%load_ext nb_black\";\n",
       "                var nbb_cells = Jupyter.notebook.get_cells();\n",
       "                for (var i = 0; i < nbb_cells.length; ++i) {\n",
       "                    if (nbb_cells[i].input_prompt_number == nbb_cell_id) {\n",
       "                        if (nbb_cells[i].get_text() == nbb_unformatted_code) {\n",
       "                             nbb_cells[i].set_text(nbb_formatted_code);\n",
       "                        }\n",
       "                        break;\n",
       "                    }\n",
       "                }\n",
       "            }, 500);\n",
       "            "
      ],
      "text/plain": [
       "<IPython.core.display.Javascript object>"
      ]
     },
     "metadata": {},
     "output_type": "display_data"
    }
   ],
   "source": [
    "%load_ext nb_black\n",
    "\n",
    "import numpy as np\n",
    "import pandas as pd\n",
    "import matplotlib.pyplot as plt\n",
    "import seaborn as sns\n",
    "import MDAnalysis as mda\n",
    "from modules.traj import System, TrajectorySlice\n",
    "from modules.constants import PATH\n",
    "\n",
    "sns.set(context=\"notebook\", palette=\"muted\", style=\"ticks\", rc={\"figure.figsize\": (9, 6)})"
   ]
  },
  {
   "cell_type": "markdown",
   "metadata": {},
   "source": [
    "## visualize trajectory"
   ]
  },
  {
   "cell_type": "code",
   "execution_count": null,
   "metadata": {
    "jupyter": {
     "outputs_hidden": false,
     "source_hidden": false
    },
    "nteract": {
     "transient": {
      "deleting": false
     }
    },
    "scrolled": true
   },
   "outputs": [],
   "source": [
    "import nglview as nv\n",
    "\n",
    "syst = \"dops_chol50\"\n",
    "u = mda.Universe(\n",
    "    str(PATH / syst / \"md\" / \"md.tpr\"), \n",
    "    str(PATH / syst / \"md\" / \"pbcmol_199-200-10.xtc\")\n",
    ")\n",
    "lips = u.select_atoms(\"resname DOPS or resname CHL\")\n",
    "view = nv.show_mdanalysis(lips)\n",
    "view.background = 'black'\n",
    "view"
   ]
  },
  {
   "cell_type": "code",
   "execution_count": 3,
   "metadata": {},
   "outputs": [],
   "source": [
    "view.clear_representations()\n",
    "view.add_ball_and_stick('CHL', color='cyan')\n",
    "view.add_ball_and_stick('DOPS')"
   ]
  },
  {
   "cell_type": "markdown",
   "metadata": {},
   "source": [
    "## caluclate velocities using .xtc"
   ]
  },
  {
   "cell_type": "code",
   "execution_count": null,
   "metadata": {},
   "outputs": [],
   "source": [
    "syst = \"popc_chol10\"\n",
    "print(syst)\n",
    "print(\"importing universe...\")\n",
    "u = mda.Universe(\n",
    "    str(PATH / syst / \"md\" / \"md.tpr\"),\n",
    "    str(PATH / syst / \"md\" / \"md.xtc\"),\n",
    ")"
   ]
  },
  {
   "cell_type": "code",
   "execution_count": null,
   "metadata": {},
   "outputs": [],
   "source": [
    "print(\"collecting positions...\")\n",
    "at_pos = {}\n",
    "for ts in u.trajectory[(199000 - 1) : 199001]:\n",
    "    print(ts.time)\n",
    "    at_pos[u.trajectory.frame] = u.atoms.positions\n",
    "\n",
    "print(\"calculating velocities...\")\n",
    "velocities = (at_pos[199000] - at_pos[199000 - 1]) / u.trajectory.dt\n",
    "\n",
    "u.trajectory[199000]\n",
    "u.trajectory.ts.has_velocities = True\n",
    "u.atoms.positions = at_pos[199000]\n",
    "u.atoms.velocities = velocities"
   ]
  },
  {
   "cell_type": "code",
   "execution_count": 67,
   "metadata": {},
   "outputs": [
    {
     "name": "stdout",
     "output_type": "stream",
     "text": [
      "popc_chol10\n",
      "importing universe...\n",
      "collecting positions...\n",
      "198999.0\n",
      "199000.0\n",
      "calculating velocities...\n",
      "saving md_19000.trr...\n",
      "done.\n"
     ]
    },
    {
     "data": {
      "application/javascript": [
       "\n",
       "            setTimeout(function() {\n",
       "                var nbb_cell_id = 67;\n",
       "                var nbb_unformatted_code = \"syst = \\\"popc_chol10\\\"\\nprint(syst)\\nprint(\\\"importing universe...\\\")\\nu = mda.Universe(\\n    str(PATH / syst / \\\"md\\\" / \\\"md.tpr\\\"),\\n    str(PATH / syst / \\\"md\\\" / \\\"md.xtc\\\"),\\n)\\n\\nprint(\\\"collecting positions...\\\")\\nat_pos = {}\\nfor ts in u.trajectory[(199000 - 1) : 199001]:\\n    print(ts.time)\\n    at_pos[u.trajectory.frame] = u.atoms.positions\\n\\nprint(\\\"calculating velocities...\\\")\\nvelocities = (at_pos[199000] - at_pos[199000-1]) / u.trajectory.dt\\n\\nu.trajectory[199000]\\nu.trajectory.ts.has_velocities = True\\nu.atoms.positions = at_pos[199000]\\nu.atoms.velocities = velocities\\n\\nprint(\\\"saving md_19000.trr...\\\")\\nwith mda.Writer(\\n    str(PATH / syst / \\\"md\\\" / \\\"md_199000.trr\\\"), u.atoms.n_atoms\\n) as writer:\\n    writer.write(u.atoms)\\nprint(\\\"done.\\\")\";\n",
       "                var nbb_formatted_code = \"syst = \\\"popc_chol10\\\"\\nprint(syst)\\nprint(\\\"importing universe...\\\")\\nu = mda.Universe(\\n    str(PATH / syst / \\\"md\\\" / \\\"md.tpr\\\"),\\n    str(PATH / syst / \\\"md\\\" / \\\"md.xtc\\\"),\\n)\\n\\nprint(\\\"collecting positions...\\\")\\nat_pos = {}\\nfor ts in u.trajectory[(199000 - 1) : 199001]:\\n    print(ts.time)\\n    at_pos[u.trajectory.frame] = u.atoms.positions\\n\\nprint(\\\"calculating velocities...\\\")\\nvelocities = (at_pos[199000] - at_pos[199000 - 1]) / u.trajectory.dt\\n\\nu.trajectory[199000]\\nu.trajectory.ts.has_velocities = True\\nu.atoms.positions = at_pos[199000]\\nu.atoms.velocities = velocities\\n\\nprint(\\\"saving md_19000.trr...\\\")\\nwith mda.Writer(str(PATH / syst / \\\"md\\\" / \\\"md_199000.trr\\\"), u.atoms.n_atoms) as writer:\\n    writer.write(u.atoms)\\nprint(\\\"done.\\\")\";\n",
       "                var nbb_cells = Jupyter.notebook.get_cells();\n",
       "                for (var i = 0; i < nbb_cells.length; ++i) {\n",
       "                    if (nbb_cells[i].input_prompt_number == nbb_cell_id) {\n",
       "                        if (nbb_cells[i].get_text() == nbb_unformatted_code) {\n",
       "                             nbb_cells[i].set_text(nbb_formatted_code);\n",
       "                        }\n",
       "                        break;\n",
       "                    }\n",
       "                }\n",
       "            }, 500);\n",
       "            "
      ],
      "text/plain": [
       "<IPython.core.display.Javascript object>"
      ]
     },
     "metadata": {},
     "output_type": "display_data"
    }
   ],
   "source": [
    "print(\"saving md_19000.trr...\")\n",
    "with mda.Writer(str(PATH / syst / \"md\" / \"md_199000.trr\"), u.atoms.n_atoms) as writer:\n",
    "    writer.write(u.atoms)\n",
    "print(\"done.\")"
   ]
  },
  {
   "cell_type": "markdown",
   "metadata": {},
   "source": [
    "### run grompp"
   ]
  },
  {
   "cell_type": "code",
   "execution_count": 75,
   "metadata": {
    "scrolled": true
   },
   "outputs": [
    {
     "name": "stdout",
     "output_type": "stream",
     "text": [
      ". /usr/local/gromacs-2020.4/bin/GMXRC &&  gmx grompp -f /home/klim/Documents/chol_impact/popc_chol10/md_last_ns.mdp -c /home/klim/Documents/chol_impact/popc_chol10/pr4/pr4.gro -r /home/klim/Documents/chol_impact/popc_chol10/pr4/pr4.gro -p /home/klim/Documents/chol_impact/popc_chol10/indata/system.top -n /home/klim/Documents/chol_impact/popc_chol10/indata/grps.ndx -t /home/klim/Documents/chol_impact/popc_chol10/md/md_199000.trr -o /home/klim/Documents/chol_impact/popc_chol10/md/last_ns.tpr -v\n"
     ]
    },
    {
     "data": {
      "application/javascript": [
       "\n",
       "            setTimeout(function() {\n",
       "                var nbb_cell_id = 75;\n",
       "                var nbb_unformatted_code = \"import subprocess\\n\\nsyst = \\\"popc_chol10\\\"\\n\\ncmd = \\\" \\\".join(\\n    [\\n        \\\". /usr/local/gromacs-2020.4/bin/GMXRC && \\\",\\n        f\\\"gmx grompp -f {str(PATH / syst)}/md_last_ns.mdp\\\",\\n        f\\\"-c {str(PATH / syst)}/pr4/pr4.gro\\\",\\n        f\\\"-r {str(PATH / syst)}/pr4/pr4.gro\\\",\\n        f\\\"-p {str(PATH / syst)}/indata/system.top\\\",\\n        f\\\"-n {str(PATH / syst)}/indata/grps.ndx\\\",\\n        f\\\"-t {str(PATH / syst)}/md/md_199000.trr\\\",\\n        # f'-e {str(PATH / syst)}/md/md.edr',\\n        f\\\"-o {str(PATH / syst)}/md/last_ns.tpr -v\\\",\\n    ]\\n)\\nprint(cmd)\";\n",
       "                var nbb_formatted_code = \"import subprocess\\n\\nsyst = \\\"popc_chol10\\\"\\n\\ncmd = \\\" \\\".join(\\n    [\\n        \\\". /usr/local/gromacs-2020.4/bin/GMXRC && \\\",\\n        f\\\"gmx grompp -f {str(PATH / syst)}/md_last_ns.mdp\\\",\\n        f\\\"-c {str(PATH / syst)}/pr4/pr4.gro\\\",\\n        f\\\"-r {str(PATH / syst)}/pr4/pr4.gro\\\",\\n        f\\\"-p {str(PATH / syst)}/indata/system.top\\\",\\n        f\\\"-n {str(PATH / syst)}/indata/grps.ndx\\\",\\n        f\\\"-t {str(PATH / syst)}/md/md_199000.trr\\\",\\n        # f'-e {str(PATH / syst)}/md/md.edr',\\n        f\\\"-o {str(PATH / syst)}/md/last_ns.tpr -v\\\",\\n    ]\\n)\\nprint(cmd)\";\n",
       "                var nbb_cells = Jupyter.notebook.get_cells();\n",
       "                for (var i = 0; i < nbb_cells.length; ++i) {\n",
       "                    if (nbb_cells[i].input_prompt_number == nbb_cell_id) {\n",
       "                        if (nbb_cells[i].get_text() == nbb_unformatted_code) {\n",
       "                             nbb_cells[i].set_text(nbb_formatted_code);\n",
       "                        }\n",
       "                        break;\n",
       "                    }\n",
       "                }\n",
       "            }, 500);\n",
       "            "
      ],
      "text/plain": [
       "<IPython.core.display.Javascript object>"
      ]
     },
     "metadata": {},
     "output_type": "display_data"
    }
   ],
   "source": [
    "import subprocess\n",
    "\n",
    "syst = \"popc_chol10\"\n",
    "\n",
    "cmd = \" \".join(\n",
    "    [\n",
    "        \". /usr/local/gromacs-2020.4/bin/GMXRC && \",\n",
    "        f\"gmx grompp -f {str(PATH / syst)}/md_last_ns.mdp\",\n",
    "        f\"-c {str(PATH / syst)}/pr4/pr4.gro\",\n",
    "        f\"-r {str(PATH / syst)}/pr4/pr4.gro\",\n",
    "        f\"-p {str(PATH / syst)}/indata/system.top\",\n",
    "        f\"-n {str(PATH / syst)}/indata/grps.ndx\",\n",
    "        f\"-t {str(PATH / syst)}/md/md_199000.trr\",\n",
    "        # f'-e {str(PATH / syst)}/md/md.edr',\n",
    "        f\"-o {str(PATH / syst)}/md/last_ns.tpr -v\",\n",
    "    ]\n",
    ")\n",
    "print(cmd)"
   ]
  },
  {
   "cell_type": "code",
   "execution_count": 73,
   "metadata": {
    "scrolled": true
   },
   "outputs": [
    {
     "name": "stderr",
     "output_type": "stream",
     "text": [
      "                      :-) GROMACS - gmx grompp, 2020.4 (-:\n",
      "\n",
      "                            GROMACS is written by:\n",
      "     Emile Apol      Rossen Apostolov      Paul Bauer     Herman J.C. Berendsen\n",
      "    Par Bjelkmar      Christian Blau   Viacheslav Bolnykh     Kevin Boyd    \n",
      " Aldert van Buuren   Rudi van Drunen     Anton Feenstra       Alan Gray     \n",
      "  Gerrit Groenhof     Anca Hamuraru    Vincent Hindriksen  M. Eric Irrgang  \n",
      "  Aleksei Iupinov   Christoph Junghans     Joe Jordan     Dimitrios Karkoulis\n",
      "    Peter Kasson        Jiri Kraus      Carsten Kutzner      Per Larsson    \n",
      "  Justin A. Lemkul    Viveca Lindahl    Magnus Lundborg     Erik Marklund   \n",
      "    Pascal Merz     Pieter Meulenhoff    Teemu Murtola       Szilard Pall   \n",
      "    Sander Pronk      Roland Schulz      Michael Shirts    Alexey Shvetsov  \n",
      "   Alfons Sijbers     Peter Tieleman      Jon Vincent      Teemu Virolainen \n",
      " Christian Wennberg    Maarten Wolf      Artem Zhmurov   \n",
      "                           and the project leaders:\n",
      "        Mark Abraham, Berk Hess, Erik Lindahl, and David van der Spoel\n",
      "\n",
      "Copyright (c) 1991-2000, University of Groningen, The Netherlands.\n",
      "Copyright (c) 2001-2019, The GROMACS development team at\n",
      "Uppsala University, Stockholm University and\n",
      "the Royal Institute of Technology, Sweden.\n",
      "check out http://www.gromacs.org for more information.\n",
      "\n",
      "GROMACS is free software; you can redistribute it and/or modify it\n",
      "under the terms of the GNU Lesser General Public License\n",
      "as published by the Free Software Foundation; either version 2.1\n",
      "of the License, or (at your option) any later version.\n",
      "\n",
      "GROMACS:      gmx grompp, version 2020.4\n",
      "Executable:   /usr/local/gromacs-2020.4/bin/gmx\n",
      "Data prefix:  /usr/local/gromacs-2020.4\n",
      "Working dir:  /home/klim/Documents/chol_impact/notebooks/lab_scripts\n",
      "Command line:\n",
      "  gmx grompp -f /home/klim/Documents/chol_impact/popc_chol10/md_last_ns.mdp -c /home/klim/Documents/chol_impact/popc_chol10/pr4/pr4.gro -r /home/klim/Documents/chol_impact/popc_chol10/pr4/pr4.gro -p /home/klim/Documents/chol_impact/popc_chol10/indata/system.top -n /home/klim/Documents/chol_impact/popc_chol10/indata/grps.ndx -t /home/klim/Documents/chol_impact/popc_chol10/md/md_199000.trr -o /home/klim/Documents/chol_impact/popc_chol10/md/last_ns.tpr -v\n",
      "\n",
      "Ignoring obsolete mdp entry 'ns_type'\n",
      "Replacing old mdp entry 'nstxtcout' by 'nstxout-compressed'\n",
      "checking input for internal consistency...\n",
      "\n",
      "NOTE 1 [file /home/klim/Documents/chol_impact/popc_chol10/md_last_ns.mdp]:\n",
      "  nstcomm < nstcalcenergy defeats the purpose of nstcalcenergy, setting\n",
      "  nstcomm to nstcalcenergy\n",
      "\n",
      "\n",
      "NOTE 2 [file /home/klim/Documents/chol_impact/popc_chol10/md_last_ns.mdp]:\n",
      "  leapfrog does not yet support Nose-Hoover chains, nhchainlength reset to 1\n",
      "\n",
      "Setting the LD random seed to -1607095189\n",
      "Generated 6328 of the 6328 non-bonded parameter combinations\n",
      "Generating 1-4 interactions: fudge = 0.5\n",
      "Generated 6246 of the 6328 1-4 parameter combinations\n",
      "Excluding 3 bonded neighbours molecule type 'POPC'\n",
      "Excluding 3 bonded neighbours molecule type 'CHOL'\n",
      "Excluding 2 bonded neighbours molecule type 'SOL'\n",
      "processing coordinates...\n"
     ]
    },
    {
     "name": "stdout",
     "output_type": "stream",
     "text": [
      "processing topology...\n",
      "turning H bonds into constraints...\n",
      "turning H bonds into constraints...\n",
      "turning H bonds into constraints...\n",
      "Determining Verlet buffer for a tolerance of 0.005 kJ/mol/ps at 310 K\n",
      "Calculated rlist for 1x1 atom pair-list as 1.521 nm, buffer size 0.021 nm\n",
      "Set rlist, assuming 4x4 atom pair-list, to 1.500 nm, buffer size 0.000 nm\n",
      "Note that mdrun will redetermine rlist based on the actual pair-list setup\n",
      "Calculating fourier grid dimensions for X Y Z\n",
      "Using a fourier grid of 72x72x80, spacing 0.108 0.108 0.114\n",
      "This run will generate roughly 328 Mb of data\n"
     ]
    },
    {
     "name": "stderr",
     "output_type": "stream",
     "text": [
      "double-checking input for internal consistency...\n",
      "renumbering atomtypes...\n",
      "converting bonded parameters...\n",
      "initialising group options...\n",
      "processing index file...\n",
      "Making dummy/rest group for Acceleration containing 57403 elements\n",
      "Making dummy/rest group for Freeze containing 57403 elements\n",
      "Number of degrees of freedom in T-Coupling group LIPIDS is 61117.00\n",
      "Number of degrees of freedom in T-Coupling group SOL is 63603.00\n",
      "Making dummy/rest group for User1 containing 57403 elements\n",
      "Making dummy/rest group for User2 containing 57403 elements\n",
      "Making dummy/rest group for Compressed X containing 57403 elements\n",
      "Making dummy/rest group for Or. Res. Fit containing 57403 elements\n",
      "Making dummy/rest group for QMMM containing 57403 elements\n",
      "T-Coupling       has 2 element(s): LIPIDS SOL\n",
      "Energy Mon.      has 1 element(s): SYS_ALL\n",
      "Acceleration     has 1 element(s): rest\n",
      "Freeze           has 1 element(s): rest\n",
      "User1            has 1 element(s): rest\n",
      "User2            has 1 element(s): rest\n",
      "VCM              has 2 element(s): LIPIDS SOL\n",
      "Compressed X     has 1 element(s): rest\n",
      "Or. Res. Fit     has 1 element(s): rest\n",
      "QMMM             has 1 element(s): rest\n",
      "getting data from old trajectory ...\n",
      "Reading Coordinates, Velocities and Box size from old trajectory\n",
      "Will read whole trajectory\n",
      "trr version: GMX_trn_file (single precision)\n",
      "\r",
      "Reading frame       0 time 199000.000   \r",
      "Last frame          0 time 199000.000   \n",
      "Using frame at t = 199000 ps\n",
      "Starting time for run is 9.95e+07 ps\n",
      "Estimate for the relative computational load of the PME mesh part: 0.08\n",
      "writing run input file...\n",
      "\n",
      "There were 2 notes\n",
      "\n",
      "GROMACS reminds you: \"What Kind Of Guru are You, Anyway ?\" (F. Zappa)\n",
      "\n"
     ]
    },
    {
     "data": {
      "text/plain": [
       "CompletedProcess(args='. /usr/local/gromacs-2020.4/bin/GMXRC &&  gmx grompp -f /home/klim/Documents/chol_impact/popc_chol10/md_last_ns.mdp -c /home/klim/Documents/chol_impact/popc_chol10/pr4/pr4.gro -r /home/klim/Documents/chol_impact/popc_chol10/pr4/pr4.gro -p /home/klim/Documents/chol_impact/popc_chol10/indata/system.top -n /home/klim/Documents/chol_impact/popc_chol10/indata/grps.ndx -t /home/klim/Documents/chol_impact/popc_chol10/md/md_199000.trr -o /home/klim/Documents/chol_impact/popc_chol10/md/last_ns.tpr -v', returncode=0)"
      ]
     },
     "execution_count": 73,
     "metadata": {},
     "output_type": "execute_result"
    },
    {
     "data": {
      "application/javascript": [
       "\n",
       "            setTimeout(function() {\n",
       "                var nbb_cell_id = 73;\n",
       "                var nbb_unformatted_code = \"subprocess.run(cmd, shell=True, check=True)\";\n",
       "                var nbb_formatted_code = \"subprocess.run(cmd, shell=True, check=True)\";\n",
       "                var nbb_cells = Jupyter.notebook.get_cells();\n",
       "                for (var i = 0; i < nbb_cells.length; ++i) {\n",
       "                    if (nbb_cells[i].input_prompt_number == nbb_cell_id) {\n",
       "                        if (nbb_cells[i].get_text() == nbb_unformatted_code) {\n",
       "                             nbb_cells[i].set_text(nbb_formatted_code);\n",
       "                        }\n",
       "                        break;\n",
       "                    }\n",
       "                }\n",
       "            }, 500);\n",
       "            "
      ],
      "text/plain": [
       "<IPython.core.display.Javascript object>"
      ]
     },
     "metadata": {},
     "output_type": "display_data"
    }
   ],
   "source": [
    "subprocess.run(cmd, shell=True, check=True)"
   ]
  },
  {
   "cell_type": "code",
   "execution_count": null,
   "metadata": {},
   "outputs": [],
   "source": []
  }
 ],
 "metadata": {
  "kernelspec": {
   "display_name": "Python 3 (ipykernel)",
   "language": "python",
   "name": "python3"
  },
  "language_info": {
   "codemirror_mode": {
    "name": "ipython",
    "version": 3
   },
   "file_extension": ".py",
   "mimetype": "text/x-python",
   "name": "python",
   "nbconvert_exporter": "python",
   "pygments_lexer": "ipython3",
   "version": "3.10.8"
  }
 },
 "nbformat": 4,
 "nbformat_minor": 1
}
